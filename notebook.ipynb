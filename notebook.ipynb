{
 "cells": [
  {
   "cell_type": "code",
   "execution_count": null,
   "metadata": {},
   "outputs": [
    {
     "name": "stdout",
     "output_type": "stream",
     "text": [
      "영화 제목: Interstellar\n",
      "감독: Christopher Nolan\n",
      "주요 출연진: Matthew McConaughey, Anne Hathaway, Jessica Chastain\n",
      "예산: $165 million\n",
      "흥행 수익: $677.5 million\n",
      "장르: Science Fiction, Drama\n",
      "간략한 줄거리: 미래 지구에서 식량 부족으로 인류가 멸종 위기에 처한 가운데, 한 우주 탐사대가 새로운 행성을 찾기 위해 우주로 떠난다."
     ]
    },
    {
     "data": {
      "text/plain": [
       "AIMessage(content='영화 제목: Interstellar\\n감독: Christopher Nolan\\n주요 출연진: Matthew McConaughey, Anne Hathaway, Jessica Chastain\\n예산: $165 million\\n흥행 수익: $677.5 million\\n장르: Science Fiction, Drama\\n간략한 줄거리: 미래 지구에서 식량 부족으로 인류가 멸종 위기에 처한 가운데, 한 우주 탐사대가 새로운 행성을 찾기 위해 우주로 떠난다.', additional_kwargs={}, response_metadata={'finish_reason': 'stop'}, id='run-329245c5-49e3-478c-87e1-876d715e86a2-0')"
      ]
     },
     "execution_count": 9,
     "metadata": {},
     "output_type": "execute_result"
    }
   ],
   "source": [
    "from langchain.chat_models import ChatOpenAI\n",
    "from langchain.prompts import  ChatPromptTemplate\n",
    "from langchain.callbacks import StreamingStdOutCallbackHandler\n",
    "from langchain import PromptTemplate, FewShotPromptTemplate\n",
    "from langchain.chat_models import ChatOpenAI\n",
    "\n",
    "llm = ChatOpenAI(\n",
    "    temperature=0.1,\n",
    "    streaming=True,\n",
    "    callbacks=[\n",
    "        StreamingStdOutCallbackHandler(),\n",
    "    ],\n",
    "    model=\"gpt-3.5-turbo\",\n",
    ")\n",
    "\n",
    "examples = [\n",
    "    {\n",
    "        \"input\": \"Inception\",\n",
    "        \"output\": \"영화 제목: Inception\\n감독: Christopher Nolan\\n주요 출연진: Leonardo DiCaprio, Joseph Gordon-Levitt, Ellen Page\\n예산: $160 million\\n흥행 수익: $836.8 million\\n장르: Science Fiction, Thriller\\n간략한 줄거리: 꿈속에서 다른 사람의 무의식을 해킹하는 전문가가 마지막 미션으로 한 기업가의 마음속에 아이디어를 심는 임무를 맡는다.\"\n",
    "    },\n",
    "    {\n",
    "        \"input\": \"Titanic\",\n",
    "        \"output\": \"영화 제목: Titanic\\n감독: James Cameron\\n주요 출연진: Leonardo DiCaprio, Kate Winslet, Billy Zane\\n예산: $200 million\\n흥행 수익: $2.2 billion\\n장르: Romance, Drama\\n간략한 줄거리: 1912년, RMS 타이타닉호에서 만난 두 젊은 연인이 계급 차이를 극복하고 사랑을 키워 나가지만 비극적인 결말을 맞이한다.\"\n",
    "    }\n",
    "]\n",
    "\n",
    "example_template = PromptTemplate(\n",
    "    input_variables=[\"input\", \"output\"],\n",
    "    template=\"질문: {input}\\n답변: {output}\"\n",
    ")\n",
    "\n",
    "few_shot_prompt = FewShotPromptTemplate(\n",
    "    examples=examples,\n",
    "    example_prompt=example_template,\n",
    "    prefix=\"다음은 영화 제목을 입력하면 해당 영화의 정보를 제공하는 예시입니다:\",\n",
    "    suffix=\"질문: {movie_name}\\n답변:\",\n",
    "    input_variables=[\"movie_name\"]\n",
    ")\n",
    "\n",
    "chain = few_shot_prompt | llm\n",
    "chain.invoke({\"movie_name\": \"Interstellar\"})\n"
   ]
  },
  {
   "cell_type": "code",
   "execution_count": null,
   "metadata": {},
   "outputs": [],
   "source": []
  }
 ],
 "metadata": {
  "kernelspec": {
   "display_name": ".venv",
   "language": "python",
   "name": "python3"
  },
  "language_info": {
   "codemirror_mode": {
    "name": "ipython",
    "version": 3
   },
   "file_extension": ".py",
   "mimetype": "text/x-python",
   "name": "python",
   "nbconvert_exporter": "python",
   "pygments_lexer": "ipython3",
   "version": "3.11.11"
  }
 },
 "nbformat": 4,
 "nbformat_minor": 2
}
