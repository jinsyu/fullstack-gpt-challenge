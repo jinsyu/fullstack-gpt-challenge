{
 "cells": [
  {
   "cell_type": "code",
   "execution_count": 3,
   "metadata": {},
   "outputs": [
    {
     "data": {
      "text/plain": [
       "AIMessage(content=\"In the realm of code, where languages convene,\\nThere's one that stands out, a true programming queen.\\nWith objects and classes, it reigns supreme,\\nA language so powerful, it fulfills every dream.\\n\\nC++ is the name, beloved by many,\\nWith its endless capabilities, it's never too little, never too many.\\nFrom complex algorithms to simple arrays,\\nThis language can handle anything that comes its way.\\n\\nIt may seem daunting to some, with its syntax so grand,\\nBut once you grasp its power, you'll truly understand.\\nIt's efficiency and speed, unmatched by the rest,\\nMaking C++ the language that's truly the best.\\n\\nSo here's to C++, may it never grow old,\\nA language so timeless, a language so bold.\\nFor developers far and wide, it's a cherished tool,\\nUnleashing their creativity, making them feel cool.\", additional_kwargs={}, response_metadata={'token_usage': {'completion_tokens': 179, 'prompt_tokens': 41, 'total_tokens': 220, 'completion_tokens_details': {'accepted_prediction_tokens': 0, 'audio_tokens': 0, 'reasoning_tokens': 0, 'rejected_prediction_tokens': 0}, 'prompt_tokens_details': {'audio_tokens': 0, 'cached_tokens': 0}}, 'model_name': 'gpt-3.5-turbo', 'system_fingerprint': None, 'finish_reason': 'stop', 'logprobs': None}, id='run-1df38774-537f-43e5-8d57-287abb95f36e-0')"
      ]
     },
     "execution_count": 3,
     "metadata": {},
     "output_type": "execute_result"
    }
   ],
   "source": [
    "from langchain.chat_models import ChatOpenAI\n",
    "from langchain.prompts import  ChatPromptTemplate\n",
    "\n",
    "prompt = ChatPromptTemplate.from_messages(\n",
    "    [\n",
    "        (\"system\", \"You are a helpful assistant that can make a poem. you are given a programming language name and you need to make a poem for it.\"),\n",
    "        (\"user\", \"{input}\"),\n",
    "    ]\n",
    ")\n",
    "\n",
    "chat = ChatOpenAI(\n",
    "    temperature=1,\n",
    "    model=\"gpt-3.5-turbo\",\n",
    ")\n",
    "\n",
    "\n",
    "chat.invoke(prompt.format(input=\"C++\"))"
   ]
  },
  {
   "cell_type": "code",
   "execution_count": null,
   "metadata": {},
   "outputs": [],
   "source": []
  }
 ],
 "metadata": {
  "kernelspec": {
   "display_name": ".venv",
   "language": "python",
   "name": "python3"
  },
  "language_info": {
   "codemirror_mode": {
    "name": "ipython",
    "version": 3
   },
   "file_extension": ".py",
   "mimetype": "text/x-python",
   "name": "python",
   "nbconvert_exporter": "python",
   "pygments_lexer": "ipython3",
   "version": "3.11.11"
  }
 },
 "nbformat": 4,
 "nbformat_minor": 2
}
