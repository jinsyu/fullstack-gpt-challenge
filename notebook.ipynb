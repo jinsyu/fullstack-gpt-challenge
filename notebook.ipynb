{
 "cells": [
  {
   "cell_type": "code",
   "execution_count": null,
   "metadata": {},
   "outputs": [
    {
     "name": "stdout",
     "output_type": "stream",
     "text": [
      "💭🕰️🔁인셉션 -> 💭🕰️🔁\n",
      "🌿🌊🌌아바타 -> 🌿🌊🌌\n"
     ]
    },
    {
     "data": {
      "text/plain": [
       "[HumanMessage(content='인셉션', additional_kwargs={}, response_metadata={}),\n",
       " AIMessage(content='💭🕰️🔁', additional_kwargs={}, response_metadata={}),\n",
       " HumanMessage(content='아바타', additional_kwargs={}, response_metadata={}),\n",
       " AIMessage(content='🌿🌊🌌', additional_kwargs={}, response_metadata={})]"
      ]
     },
     "execution_count": 13,
     "metadata": {},
     "output_type": "execute_result"
    }
   ],
   "source": [
    "from langchain.chat_models import ChatOpenAI\n",
    "from langchain.prompts import  ChatPromptTemplate\n",
    "from langchain.callbacks import StreamingStdOutCallbackHandler\n",
    "from langchain import PromptTemplate, FewShotPromptTemplate\n",
    "from langchain.chat_models import ChatOpenAI\n",
    "from langchain.chat_models import ChatOpenAI\n",
    "from langchain.prompts import ChatPromptTemplate\n",
    "from langchain.prompts.few_shot import FewShotChatMessagePromptTemplate\n",
    "from langchain.memory import ConversationBufferMemory\n",
    "from langchain.chains import LLMChain\n",
    "from operator import itemgetter\n",
    "from langchain.schema import StrOutputParser\n",
    "from langchain.schema.runnable import RunnablePassthrough\n",
    "\n",
    "# 예시 데이터 정의\n",
    "examples = [\n",
    "    {\n",
    "        \"input\": \"타이타닉\",\n",
    "        \"output\": \"🚢💑❄️\"\n",
    "    },\n",
    "    {\n",
    "        \"input\": \"매트릭스\",\n",
    "        \"output\": \"🕶️💊🤖\"\n",
    "    },\n",
    "    {\n",
    "        \"input\": \"쥬라기 공원\",\n",
    "        \"output\": \"🦖🏃🌴\"\n",
    "    },\n",
    "    {\n",
    "        \"input\": \"해리 포터\",\n",
    "        \"output\": \"⚡🧙‍♂️🪄\"\n",
    "    }\n",
    "]\n",
    "\n",
    "# Few-shot 프롬프트 템플릿 생성\n",
    "few_shot_prompt = FewShotChatMessagePromptTemplate(\n",
    "    examples=examples,\n",
    "    example_prompt=ChatPromptTemplate.from_messages([\n",
    "        (\"human\", \"{input}\"),\n",
    "        (\"assistant\", \"{output}\")\n",
    "    ]),\n",
    ")\n",
    "\n",
    "# 메인 프롬프트 템플릿\n",
    "prompt = ChatPromptTemplate.from_messages([\n",
    "    (\"system\", \"당신은 영화 제목을 받아서 그 영화를 가장 잘 표현하는 3개의 이모지로 응답하는 assistant입니다. 반드시 3개의 이모지만 사용해야 합니다.\"),\n",
    "    few_shot_prompt,\n",
    "    (\"human\", \"{input}\"),\n",
    "])\n",
    "\n",
    "# 메모리 설정\n",
    "memory = ConversationBufferMemory(\n",
    "    return_messages=True,\n",
    "    memory_key=\"chat_history\",\n",
    "    input_key=\"input\"\n",
    ")\n",
    "\n",
    "# LLM 설정\n",
    "llm = ChatOpenAI(\n",
    "    temperature=0.7,\n",
    "    streaming=True,\n",
    "    callbacks=[\n",
    "        StreamingStdOutCallbackHandler(),\n",
    "    ],\n",
    "    model=\"gpt-3.5-turbo\",\n",
    ")\n",
    "\n",
    "# 체인 구성\n",
    "chain = (\n",
    "    RunnablePassthrough.assign(chat_history=memory.load_memory_variables) \n",
    "    | {\"input\": lambda x: x[\"input\"], \"chat_history\": lambda x: x[\"chat_history\"]}\n",
    "    | prompt \n",
    "    | llm\n",
    "    | StrOutputParser()\n",
    ")\n",
    "\n",
    "# 실행 함수\n",
    "def run_chain(user_input):\n",
    "    result = chain.invoke({\"input\": user_input})\n",
    "    memory.save_context({\"input\": user_input}, {\"output\": result})\n",
    "    return result\n",
    "\n",
    "# 첫 번째 영화 테스트\n",
    "run_chain(\"인셉션\")\n",
    "\n",
    "# 두 번째 영화 테스트\n",
    "run_chain(\"아바타\")\n",
    "\n",
    "# 메모리 확인\n",
    "memory.load_memory_variables({})[\"chat_history\"]\n"
   ]
  },
  {
   "cell_type": "code",
   "execution_count": null,
   "metadata": {},
   "outputs": [],
   "source": []
  }
 ],
 "metadata": {
  "kernelspec": {
   "display_name": ".venv",
   "language": "python",
   "name": "python3"
  },
  "language_info": {
   "codemirror_mode": {
    "name": "ipython",
    "version": 3
   },
   "file_extension": ".py",
   "mimetype": "text/x-python",
   "name": "python",
   "nbconvert_exporter": "python",
   "pygments_lexer": "ipython3",
   "version": "3.11.11"
  }
 },
 "nbformat": 4,
 "nbformat_minor": 2
}
