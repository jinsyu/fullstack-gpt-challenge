{
 "cells": [
  {
   "cell_type": "code",
   "execution_count": 5,
   "metadata": {},
   "outputs": [
    {
     "name": "stdout",
     "output_type": "stream",
     "text": [
      "In the world of code, where talents align,\n",
      "There's a language that makes your projects shine.\n",
      "JavaScript, versatile and grand,\n",
      "With functions and loops at your command.\n",
      "\n",
      "From simple scripts to interactive sites,\n",
      "Its power and flexibility ignite.\n",
      "With event listeners and animations to show,\n",
      "JavaScript makes your ideas flow.\n",
      "\n",
      "So whether you're a newbie or a pro,\n",
      "JavaScript is the way to go.\n",
      "With its syntax sweet and logic clear,\n",
      "Let your coding journey begin right here."
     ]
    },
    {
     "data": {
      "text/plain": [
       "AIMessage(content=\"In the world of code, where talents align,\\nThere's a language that makes your projects shine.\\nJavaScript, versatile and grand,\\nWith functions and loops at your command.\\n\\nFrom simple scripts to interactive sites,\\nIts power and flexibility ignite.\\nWith event listeners and animations to show,\\nJavaScript makes your ideas flow.\\n\\nSo whether you're a newbie or a pro,\\nJavaScript is the way to go.\\nWith its syntax sweet and logic clear,\\nLet your coding journey begin right here.\", additional_kwargs={}, response_metadata={'finish_reason': 'stop'}, id='run-e2aef940-e7e6-42bf-9879-97e6aab64420-0')"
      ]
     },
     "execution_count": 5,
     "metadata": {},
     "output_type": "execute_result"
    }
   ],
   "source": [
    "from langchain.chat_models import ChatOpenAI\n",
    "from langchain.prompts import  ChatPromptTemplate\n",
    "from langchain.callbacks import StreamingStdOutCallbackHandler\n",
    "\n",
    "prompt = ChatPromptTemplate.from_messages(\n",
    "    [\n",
    "        (\"system\", \"You are a helpful assistant that can make a poem. you are given a programming language name and you need to make a poem for it.\"),\n",
    "        (\"user\", \"{input}\"),\n",
    "    ]\n",
    ")\n",
    "\n",
    "chat = ChatOpenAI(\n",
    "    temperature=1,\n",
    "    streaming=True,\n",
    "    callbacks=[\n",
    "        StreamingStdOutCallbackHandler(),\n",
    "    ],\n",
    "    model=\"gpt-3.5-turbo\",\n",
    ")\n",
    "\n",
    "chain  = prompt | chat\n",
    "chain.invoke({\"input\": \"javascript\"})"
   ]
  },
  {
   "cell_type": "code",
   "execution_count": null,
   "metadata": {},
   "outputs": [],
   "source": []
  }
 ],
 "metadata": {
  "kernelspec": {
   "display_name": ".venv",
   "language": "python",
   "name": "python3"
  },
  "language_info": {
   "codemirror_mode": {
    "name": "ipython",
    "version": 3
   },
   "file_extension": ".py",
   "mimetype": "text/x-python",
   "name": "python",
   "nbconvert_exporter": "python",
   "pygments_lexer": "ipython3",
   "version": "3.11.11"
  }
 },
 "nbformat": 4,
 "nbformat_minor": 2
}
